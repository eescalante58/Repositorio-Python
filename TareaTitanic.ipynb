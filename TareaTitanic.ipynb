{
  "nbformat": 4,
  "nbformat_minor": 0,
  "metadata": {
    "colab": {
      "name": "TareaTitanic.ipynb",
      "provenance": [],
      "authorship_tag": "ABX9TyPVPrMElVXmyT0zdJwFEuqF",
      "include_colab_link": true
    },
    "kernelspec": {
      "name": "python3",
      "display_name": "Python 3"
    },
    "language_info": {
      "name": "python"
    }
  },
  "cells": [
    {
      "cell_type": "markdown",
      "metadata": {
        "id": "view-in-github",
        "colab_type": "text"
      },
      "source": [
        "<a href=\"https://colab.research.google.com/github/eescalante58/Repositorio-Python/blob/main/TareaTitanic.ipynb\" target=\"_parent\"><img src=\"https://colab.research.google.com/assets/colab-badge.svg\" alt=\"Open In Colab\"/></a>"
      ]
    },
    {
      "cell_type": "markdown",
      "metadata": {
        "id": "hpod7xEfJzNO"
      },
      "source": [
        "# Ciencia de Datos"
      ]
    },
    {
      "cell_type": "markdown",
      "metadata": {
        "id": "H-DUnQYpJ2T4"
      },
      "source": [
        "## Tarea práctica 3                                   \n",
        "Le han encomendado realizar crear un programa que permita analizar la lista de pasajeros que tenia el Titanic, esta lista posee los datos siguientes: \n",
        "\n",
        "- Clase\n",
        "- Sobrevivió\n",
        "- Nombre\n",
        "- Sexo\n",
        "- Edad\n",
        "- Ticket\n",
        "- Tarifa\n",
        "- Cabina\n",
        "- Bote de Rescate (Si sobrevivió)\n",
        "- Numeración del Cuerpo (Encontrado si murió)\n",
        "- Destino que se dirigía\n",
        "\n",
        "El programa debe permitir hacer búsquedas por código de ticket para buscar la información de un pasajero, \n",
        "además debe tener la opción para poder observar la siguiente reportería:\n",
        "\n",
        "- Una gráfica de cuantas personas murieron y cuantas sobrevivieron (en pastel)\n",
        "- Gráfica para la cantidad de sobrevivientes por clase (de barra)\n",
        "- Saber los costos de los tickets (Mas caros y mas barato)\n",
        "\n",
        "Con la base de datos proporcionada, realice una limpieza y preparación para poder cargarlo como archivo .csv en Python, utilice librerías vistas en clases para dar solución a las peticiones dadas.\n",
        "\n",
        "13 de septiembre de 2021"
      ]
    },
    {
      "cell_type": "code",
      "metadata": {
        "id": "yRF2xGgz5qfr"
      },
      "source": [
        "import numpy as np\n",
        "import pandas as pd\n",
        "import os"
      ],
      "execution_count": 521,
      "outputs": []
    },
    {
      "cell_type": "code",
      "metadata": {
        "colab": {
          "base_uri": "https://localhost:8080/"
        },
        "id": "8_okONtg50-Q",
        "outputId": "49c9b4b5-ab74-4044-eeb9-37f5ff9bf4e5"
      },
      "source": [
        "# para tener acceso a los archivos en google drive\n",
        "from google.colab import drive\n",
        "drive.mount('/content/drive')"
      ],
      "execution_count": 522,
      "outputs": [
        {
          "output_type": "stream",
          "name": "stdout",
          "text": [
            "Drive already mounted at /content/drive; to attempt to forcibly remount, call drive.mount(\"/content/drive\", force_remount=True).\n"
          ]
        }
      ]
    },
    {
      "cell_type": "code",
      "metadata": {
        "id": "O4IxeojG6EjM"
      },
      "source": [
        "dir_pd = '/content/drive/My Drive/ColabNoteBook/data/{}'.format('PasajerosTitanic.csv')"
      ],
      "execution_count": 523,
      "outputs": []
    },
    {
      "cell_type": "code",
      "metadata": {
        "id": "GmMY733v6Jeg"
      },
      "source": [
        "dfTitanicOrg = pd.read_csv(dir_pd)"
      ],
      "execution_count": 524,
      "outputs": []
    },
    {
      "cell_type": "markdown",
      "metadata": {
        "id": "ETYuqklf9TOn"
      },
      "source": [
        "### Limpieza de datos"
      ]
    },
    {
      "cell_type": "code",
      "metadata": {
        "id": "HwKAJB--7yEo"
      },
      "source": [
        "dfTitanic =dfTitanicOrg.fillna({'Tarifa': 0})"
      ],
      "execution_count": 525,
      "outputs": []
    },
    {
      "cell_type": "code",
      "metadata": {
        "id": "uDbCdJyDDryl"
      },
      "source": [
        "dfTitanic['Tarifa'].replace(\n",
        "    to_replace=[0],\n",
        "    value=33.733917,\n",
        "    inplace=True\n",
        ")"
      ],
      "execution_count": 526,
      "outputs": []
    },
    {
      "cell_type": "code",
      "metadata": {
        "colab": {
          "base_uri": "https://localhost:8080/"
        },
        "id": "EcWDL8sWAnQm",
        "outputId": "82eb2268-a011-4c39-f65d-b326ca9ab0d0"
      },
      "source": [
        "dfTitanic['Sobrevivio'] = dfTitanic['Sobrevivio'].astype(str)\n",
        "dfTitanic.dtypes"
      ],
      "execution_count": 527,
      "outputs": [
        {
          "output_type": "execute_result",
          "data": {
            "text/plain": [
              "_id                  int64\n",
              "Clase                int64\n",
              "Sobrevivio          object\n",
              "Nombre              object\n",
              "Sexo                object\n",
              "Edad               float64\n",
              "Ticket              object\n",
              "Tarifa             float64\n",
              "Cabina              object\n",
              "Bote de Rescate     object\n",
              "Cuerpo             float64\n",
              "Destino             object\n",
              "dtype: object"
            ]
          },
          "metadata": {},
          "execution_count": 527
        }
      ]
    },
    {
      "cell_type": "code",
      "metadata": {
        "id": "VrdHZok2BWGT"
      },
      "source": [
        "dfTitanic['Sobrevivio'].replace(\n",
        "    to_replace=['0'],\n",
        "    value='Murio',\n",
        "    inplace=True\n",
        ")\n",
        "dfTitanic['Sobrevivio'].replace(\n",
        "    to_replace=['1'],\n",
        "    value='Sobrevivio',\n",
        "    inplace=True\n",
        ")"
      ],
      "execution_count": 528,
      "outputs": []
    },
    {
      "cell_type": "code",
      "metadata": {
        "colab": {
          "base_uri": "https://localhost:8080/",
          "height": 300
        },
        "id": "WkMVJ35KDbQQ",
        "outputId": "8298737d-e96e-408e-bacc-dbbfc7aca00a"
      },
      "source": [
        "\n",
        "dfTitanic.describe()"
      ],
      "execution_count": 529,
      "outputs": [
        {
          "output_type": "execute_result",
          "data": {
            "text/html": [
              "<div>\n",
              "<style scoped>\n",
              "    .dataframe tbody tr th:only-of-type {\n",
              "        vertical-align: middle;\n",
              "    }\n",
              "\n",
              "    .dataframe tbody tr th {\n",
              "        vertical-align: top;\n",
              "    }\n",
              "\n",
              "    .dataframe thead th {\n",
              "        text-align: right;\n",
              "    }\n",
              "</style>\n",
              "<table border=\"1\" class=\"dataframe\">\n",
              "  <thead>\n",
              "    <tr style=\"text-align: right;\">\n",
              "      <th></th>\n",
              "      <th>_id</th>\n",
              "      <th>Clase</th>\n",
              "      <th>Edad</th>\n",
              "      <th>Tarifa</th>\n",
              "      <th>Cuerpo</th>\n",
              "    </tr>\n",
              "  </thead>\n",
              "  <tbody>\n",
              "    <tr>\n",
              "      <th>count</th>\n",
              "      <td>1309.000000</td>\n",
              "      <td>1309.000000</td>\n",
              "      <td>1046.000000</td>\n",
              "      <td>1309.000000</td>\n",
              "      <td>121.000000</td>\n",
              "    </tr>\n",
              "    <tr>\n",
              "      <th>mean</th>\n",
              "      <td>655.000000</td>\n",
              "      <td>2.294882</td>\n",
              "      <td>29.881138</td>\n",
              "      <td>33.733917</td>\n",
              "      <td>160.809917</td>\n",
              "    </tr>\n",
              "    <tr>\n",
              "      <th>std</th>\n",
              "      <td>378.020061</td>\n",
              "      <td>0.837836</td>\n",
              "      <td>14.413493</td>\n",
              "      <td>51.597612</td>\n",
              "      <td>97.696922</td>\n",
              "    </tr>\n",
              "    <tr>\n",
              "      <th>min</th>\n",
              "      <td>1.000000</td>\n",
              "      <td>1.000000</td>\n",
              "      <td>0.170000</td>\n",
              "      <td>3.170800</td>\n",
              "      <td>1.000000</td>\n",
              "    </tr>\n",
              "    <tr>\n",
              "      <th>25%</th>\n",
              "      <td>328.000000</td>\n",
              "      <td>2.000000</td>\n",
              "      <td>21.000000</td>\n",
              "      <td>7.925000</td>\n",
              "      <td>72.000000</td>\n",
              "    </tr>\n",
              "    <tr>\n",
              "      <th>50%</th>\n",
              "      <td>655.000000</td>\n",
              "      <td>3.000000</td>\n",
              "      <td>28.000000</td>\n",
              "      <td>14.500000</td>\n",
              "      <td>155.000000</td>\n",
              "    </tr>\n",
              "    <tr>\n",
              "      <th>75%</th>\n",
              "      <td>982.000000</td>\n",
              "      <td>3.000000</td>\n",
              "      <td>39.000000</td>\n",
              "      <td>32.500000</td>\n",
              "      <td>256.000000</td>\n",
              "    </tr>\n",
              "    <tr>\n",
              "      <th>max</th>\n",
              "      <td>1309.000000</td>\n",
              "      <td>3.000000</td>\n",
              "      <td>80.000000</td>\n",
              "      <td>512.329200</td>\n",
              "      <td>328.000000</td>\n",
              "    </tr>\n",
              "  </tbody>\n",
              "</table>\n",
              "</div>"
            ],
            "text/plain": [
              "               _id        Clase         Edad       Tarifa      Cuerpo\n",
              "count  1309.000000  1309.000000  1046.000000  1309.000000  121.000000\n",
              "mean    655.000000     2.294882    29.881138    33.733917  160.809917\n",
              "std     378.020061     0.837836    14.413493    51.597612   97.696922\n",
              "min       1.000000     1.000000     0.170000     3.170800    1.000000\n",
              "25%     328.000000     2.000000    21.000000     7.925000   72.000000\n",
              "50%     655.000000     3.000000    28.000000    14.500000  155.000000\n",
              "75%     982.000000     3.000000    39.000000    32.500000  256.000000\n",
              "max    1309.000000     3.000000    80.000000   512.329200  328.000000"
            ]
          },
          "metadata": {},
          "execution_count": 529
        }
      ]
    },
    {
      "cell_type": "markdown",
      "metadata": {
        "id": "Zkpte8WV9F8z"
      },
      "source": [
        "### El programa debe permitir hacer búsquedas por código de ticket para buscar la información\n",
        "de un pasajero"
      ]
    },
    {
      "cell_type": "code",
      "metadata": {
        "colab": {
          "base_uri": "https://localhost:8080/",
          "height": 484
        },
        "id": "L7-xggknH5kg",
        "outputId": "3d6bf6a0-4d5e-4d3a-f9b4-ceefb9834843"
      },
      "source": [
        "dfTitanic.head(10)"
      ],
      "execution_count": 530,
      "outputs": [
        {
          "output_type": "execute_result",
          "data": {
            "text/html": [
              "<div>\n",
              "<style scoped>\n",
              "    .dataframe tbody tr th:only-of-type {\n",
              "        vertical-align: middle;\n",
              "    }\n",
              "\n",
              "    .dataframe tbody tr th {\n",
              "        vertical-align: top;\n",
              "    }\n",
              "\n",
              "    .dataframe thead th {\n",
              "        text-align: right;\n",
              "    }\n",
              "</style>\n",
              "<table border=\"1\" class=\"dataframe\">\n",
              "  <thead>\n",
              "    <tr style=\"text-align: right;\">\n",
              "      <th></th>\n",
              "      <th>_id</th>\n",
              "      <th>Clase</th>\n",
              "      <th>Sobrevivio</th>\n",
              "      <th>Nombre</th>\n",
              "      <th>Sexo</th>\n",
              "      <th>Edad</th>\n",
              "      <th>Ticket</th>\n",
              "      <th>Tarifa</th>\n",
              "      <th>Cabina</th>\n",
              "      <th>Bote de Rescate</th>\n",
              "      <th>Cuerpo</th>\n",
              "      <th>Destino</th>\n",
              "    </tr>\n",
              "  </thead>\n",
              "  <tbody>\n",
              "    <tr>\n",
              "      <th>0</th>\n",
              "      <td>1</td>\n",
              "      <td>1</td>\n",
              "      <td>Sobrevivio</td>\n",
              "      <td>Allen Miss. Elisabeth Walton</td>\n",
              "      <td>Mujer</td>\n",
              "      <td>29.00</td>\n",
              "      <td>24160</td>\n",
              "      <td>211.337500</td>\n",
              "      <td>B5</td>\n",
              "      <td>2</td>\n",
              "      <td>NaN</td>\n",
              "      <td>St Louis MO</td>\n",
              "    </tr>\n",
              "    <tr>\n",
              "      <th>1</th>\n",
              "      <td>2</td>\n",
              "      <td>1</td>\n",
              "      <td>Sobrevivio</td>\n",
              "      <td>Allison Master. Hudson Trevor</td>\n",
              "      <td>Hombre</td>\n",
              "      <td>0.92</td>\n",
              "      <td>113781</td>\n",
              "      <td>151.550000</td>\n",
              "      <td>C22 C26</td>\n",
              "      <td>11</td>\n",
              "      <td>NaN</td>\n",
              "      <td>Montreal PQ / Chesterville ON</td>\n",
              "    </tr>\n",
              "    <tr>\n",
              "      <th>2</th>\n",
              "      <td>3</td>\n",
              "      <td>1</td>\n",
              "      <td>Murio</td>\n",
              "      <td>Allison Miss. Helen Loraine</td>\n",
              "      <td>Mujer</td>\n",
              "      <td>2.00</td>\n",
              "      <td>113781</td>\n",
              "      <td>151.550000</td>\n",
              "      <td>C22 C26</td>\n",
              "      <td>NaN</td>\n",
              "      <td>NaN</td>\n",
              "      <td>Montreal PQ / Chesterville ON</td>\n",
              "    </tr>\n",
              "    <tr>\n",
              "      <th>3</th>\n",
              "      <td>4</td>\n",
              "      <td>1</td>\n",
              "      <td>Murio</td>\n",
              "      <td>Allison Mr. Hudson Joshua Creighton</td>\n",
              "      <td>Hombre</td>\n",
              "      <td>30.00</td>\n",
              "      <td>113781</td>\n",
              "      <td>151.550000</td>\n",
              "      <td>C22 C26</td>\n",
              "      <td>NaN</td>\n",
              "      <td>135.0</td>\n",
              "      <td>Montreal PQ / Chesterville ON</td>\n",
              "    </tr>\n",
              "    <tr>\n",
              "      <th>4</th>\n",
              "      <td>5</td>\n",
              "      <td>1</td>\n",
              "      <td>Murio</td>\n",
              "      <td>Allison Mrs. Hudson J C (Bessie Waldo Daniels)</td>\n",
              "      <td>Mujer</td>\n",
              "      <td>25.00</td>\n",
              "      <td>113781</td>\n",
              "      <td>151.550000</td>\n",
              "      <td>C22 C26</td>\n",
              "      <td>NaN</td>\n",
              "      <td>NaN</td>\n",
              "      <td>Montreal PQ / Chesterville ON</td>\n",
              "    </tr>\n",
              "    <tr>\n",
              "      <th>5</th>\n",
              "      <td>6</td>\n",
              "      <td>1</td>\n",
              "      <td>Sobrevivio</td>\n",
              "      <td>Anderson Mr. Harry</td>\n",
              "      <td>Hombre</td>\n",
              "      <td>48.00</td>\n",
              "      <td>19952</td>\n",
              "      <td>26.550000</td>\n",
              "      <td>E12</td>\n",
              "      <td>3</td>\n",
              "      <td>NaN</td>\n",
              "      <td>New York NY</td>\n",
              "    </tr>\n",
              "    <tr>\n",
              "      <th>6</th>\n",
              "      <td>7</td>\n",
              "      <td>1</td>\n",
              "      <td>Sobrevivio</td>\n",
              "      <td>Andrews Miss. Kornelia Theodosia</td>\n",
              "      <td>Mujer</td>\n",
              "      <td>63.00</td>\n",
              "      <td>13502</td>\n",
              "      <td>77.958300</td>\n",
              "      <td>D7</td>\n",
              "      <td>10</td>\n",
              "      <td>NaN</td>\n",
              "      <td>Hudson NY</td>\n",
              "    </tr>\n",
              "    <tr>\n",
              "      <th>7</th>\n",
              "      <td>8</td>\n",
              "      <td>1</td>\n",
              "      <td>Murio</td>\n",
              "      <td>Andrews Mr. Thomas Jr</td>\n",
              "      <td>Hombre</td>\n",
              "      <td>39.00</td>\n",
              "      <td>112050</td>\n",
              "      <td>33.733917</td>\n",
              "      <td>A36</td>\n",
              "      <td>NaN</td>\n",
              "      <td>NaN</td>\n",
              "      <td>Belfast NI</td>\n",
              "    </tr>\n",
              "    <tr>\n",
              "      <th>8</th>\n",
              "      <td>9</td>\n",
              "      <td>1</td>\n",
              "      <td>Sobrevivio</td>\n",
              "      <td>Appleton Mrs. Edward Dale (Charlotte Lamson)</td>\n",
              "      <td>Mujer</td>\n",
              "      <td>53.00</td>\n",
              "      <td>11769</td>\n",
              "      <td>51.479200</td>\n",
              "      <td>C101</td>\n",
              "      <td>D</td>\n",
              "      <td>NaN</td>\n",
              "      <td>Bayside Queens NY</td>\n",
              "    </tr>\n",
              "    <tr>\n",
              "      <th>9</th>\n",
              "      <td>10</td>\n",
              "      <td>1</td>\n",
              "      <td>Murio</td>\n",
              "      <td>Artagaveytia Mr. Ramon</td>\n",
              "      <td>Hombre</td>\n",
              "      <td>71.00</td>\n",
              "      <td>PC 17609</td>\n",
              "      <td>49.504200</td>\n",
              "      <td>NaN</td>\n",
              "      <td>NaN</td>\n",
              "      <td>22.0</td>\n",
              "      <td>Montevideo Uruguay</td>\n",
              "    </tr>\n",
              "  </tbody>\n",
              "</table>\n",
              "</div>"
            ],
            "text/plain": [
              "   _id  Clase  Sobrevivio                                          Nombre  \\\n",
              "0    1      1  Sobrevivio                    Allen Miss. Elisabeth Walton   \n",
              "1    2      1  Sobrevivio                   Allison Master. Hudson Trevor   \n",
              "2    3      1       Murio                     Allison Miss. Helen Loraine   \n",
              "3    4      1       Murio             Allison Mr. Hudson Joshua Creighton   \n",
              "4    5      1       Murio  Allison Mrs. Hudson J C (Bessie Waldo Daniels)   \n",
              "5    6      1  Sobrevivio                              Anderson Mr. Harry   \n",
              "6    7      1  Sobrevivio                Andrews Miss. Kornelia Theodosia   \n",
              "7    8      1       Murio                           Andrews Mr. Thomas Jr   \n",
              "8    9      1  Sobrevivio    Appleton Mrs. Edward Dale (Charlotte Lamson)   \n",
              "9   10      1       Murio                          Artagaveytia Mr. Ramon   \n",
              "\n",
              "     Sexo   Edad    Ticket      Tarifa   Cabina Bote de Rescate  Cuerpo  \\\n",
              "0   Mujer  29.00     24160  211.337500       B5               2     NaN   \n",
              "1  Hombre   0.92    113781  151.550000  C22 C26              11     NaN   \n",
              "2   Mujer   2.00    113781  151.550000  C22 C26             NaN     NaN   \n",
              "3  Hombre  30.00    113781  151.550000  C22 C26             NaN   135.0   \n",
              "4   Mujer  25.00    113781  151.550000  C22 C26             NaN     NaN   \n",
              "5  Hombre  48.00     19952   26.550000      E12               3     NaN   \n",
              "6   Mujer  63.00     13502   77.958300       D7              10     NaN   \n",
              "7  Hombre  39.00    112050   33.733917      A36             NaN     NaN   \n",
              "8   Mujer  53.00     11769   51.479200     C101               D     NaN   \n",
              "9  Hombre  71.00  PC 17609   49.504200      NaN             NaN    22.0   \n",
              "\n",
              "                         Destino  \n",
              "0                    St Louis MO  \n",
              "1  Montreal PQ / Chesterville ON  \n",
              "2  Montreal PQ / Chesterville ON  \n",
              "3  Montreal PQ / Chesterville ON  \n",
              "4  Montreal PQ / Chesterville ON  \n",
              "5                    New York NY  \n",
              "6                      Hudson NY  \n",
              "7                     Belfast NI  \n",
              "8              Bayside Queens NY  \n",
              "9             Montevideo Uruguay  "
            ]
          },
          "metadata": {},
          "execution_count": 530
        }
      ]
    },
    {
      "cell_type": "code",
      "metadata": {
        "colab": {
          "base_uri": "https://localhost:8080/",
          "height": 363
        },
        "id": "N49r88sKIDQC",
        "outputId": "2fb251eb-b2cb-4c11-b88f-86fc371ae9b0"
      },
      "source": [
        "dfTitanic.tail(10)"
      ],
      "execution_count": 531,
      "outputs": [
        {
          "output_type": "execute_result",
          "data": {
            "text/html": [
              "<div>\n",
              "<style scoped>\n",
              "    .dataframe tbody tr th:only-of-type {\n",
              "        vertical-align: middle;\n",
              "    }\n",
              "\n",
              "    .dataframe tbody tr th {\n",
              "        vertical-align: top;\n",
              "    }\n",
              "\n",
              "    .dataframe thead th {\n",
              "        text-align: right;\n",
              "    }\n",
              "</style>\n",
              "<table border=\"1\" class=\"dataframe\">\n",
              "  <thead>\n",
              "    <tr style=\"text-align: right;\">\n",
              "      <th></th>\n",
              "      <th>_id</th>\n",
              "      <th>Clase</th>\n",
              "      <th>Sobrevivio</th>\n",
              "      <th>Nombre</th>\n",
              "      <th>Sexo</th>\n",
              "      <th>Edad</th>\n",
              "      <th>Ticket</th>\n",
              "      <th>Tarifa</th>\n",
              "      <th>Cabina</th>\n",
              "      <th>Bote de Rescate</th>\n",
              "      <th>Cuerpo</th>\n",
              "      <th>Destino</th>\n",
              "    </tr>\n",
              "  </thead>\n",
              "  <tbody>\n",
              "    <tr>\n",
              "      <th>1299</th>\n",
              "      <td>1300</td>\n",
              "      <td>3</td>\n",
              "      <td>Murio</td>\n",
              "      <td>Yasbeck Mr. Antoni</td>\n",
              "      <td>Hombre</td>\n",
              "      <td>27.0</td>\n",
              "      <td>2659</td>\n",
              "      <td>14.4542</td>\n",
              "      <td>NaN</td>\n",
              "      <td>C</td>\n",
              "      <td>NaN</td>\n",
              "      <td>NaN</td>\n",
              "    </tr>\n",
              "    <tr>\n",
              "      <th>1300</th>\n",
              "      <td>1301</td>\n",
              "      <td>3</td>\n",
              "      <td>Sobrevivio</td>\n",
              "      <td>Yasbeck Mrs. Antoni (Selini Alexander)</td>\n",
              "      <td>Mujer</td>\n",
              "      <td>15.0</td>\n",
              "      <td>2659</td>\n",
              "      <td>14.4542</td>\n",
              "      <td>NaN</td>\n",
              "      <td>NaN</td>\n",
              "      <td>NaN</td>\n",
              "      <td>NaN</td>\n",
              "    </tr>\n",
              "    <tr>\n",
              "      <th>1301</th>\n",
              "      <td>1302</td>\n",
              "      <td>3</td>\n",
              "      <td>Murio</td>\n",
              "      <td>Youseff Mr. Gerious</td>\n",
              "      <td>Hombre</td>\n",
              "      <td>45.5</td>\n",
              "      <td>2628</td>\n",
              "      <td>7.2250</td>\n",
              "      <td>NaN</td>\n",
              "      <td>NaN</td>\n",
              "      <td>312.0</td>\n",
              "      <td>NaN</td>\n",
              "    </tr>\n",
              "    <tr>\n",
              "      <th>1302</th>\n",
              "      <td>1303</td>\n",
              "      <td>3</td>\n",
              "      <td>Murio</td>\n",
              "      <td>Yousif Mr. Wazli</td>\n",
              "      <td>Hombre</td>\n",
              "      <td>NaN</td>\n",
              "      <td>2647</td>\n",
              "      <td>7.2250</td>\n",
              "      <td>NaN</td>\n",
              "      <td>NaN</td>\n",
              "      <td>NaN</td>\n",
              "      <td>NaN</td>\n",
              "    </tr>\n",
              "    <tr>\n",
              "      <th>1303</th>\n",
              "      <td>1304</td>\n",
              "      <td>3</td>\n",
              "      <td>Murio</td>\n",
              "      <td>Yousseff Mr. Gerious</td>\n",
              "      <td>Hombre</td>\n",
              "      <td>NaN</td>\n",
              "      <td>2627</td>\n",
              "      <td>14.4583</td>\n",
              "      <td>NaN</td>\n",
              "      <td>NaN</td>\n",
              "      <td>NaN</td>\n",
              "      <td>NaN</td>\n",
              "    </tr>\n",
              "    <tr>\n",
              "      <th>1304</th>\n",
              "      <td>1305</td>\n",
              "      <td>3</td>\n",
              "      <td>Murio</td>\n",
              "      <td>Zabour Miss. Hileni</td>\n",
              "      <td>Mujer</td>\n",
              "      <td>14.5</td>\n",
              "      <td>2665</td>\n",
              "      <td>14.4542</td>\n",
              "      <td>NaN</td>\n",
              "      <td>NaN</td>\n",
              "      <td>328.0</td>\n",
              "      <td>NaN</td>\n",
              "    </tr>\n",
              "    <tr>\n",
              "      <th>1305</th>\n",
              "      <td>1306</td>\n",
              "      <td>3</td>\n",
              "      <td>Murio</td>\n",
              "      <td>Zabour Miss. Thamine</td>\n",
              "      <td>Mujer</td>\n",
              "      <td>NaN</td>\n",
              "      <td>2665</td>\n",
              "      <td>14.4542</td>\n",
              "      <td>NaN</td>\n",
              "      <td>NaN</td>\n",
              "      <td>NaN</td>\n",
              "      <td>NaN</td>\n",
              "    </tr>\n",
              "    <tr>\n",
              "      <th>1306</th>\n",
              "      <td>1307</td>\n",
              "      <td>3</td>\n",
              "      <td>Murio</td>\n",
              "      <td>Zakarian Mr. Mapriededer</td>\n",
              "      <td>Hombre</td>\n",
              "      <td>26.5</td>\n",
              "      <td>2656</td>\n",
              "      <td>7.2250</td>\n",
              "      <td>NaN</td>\n",
              "      <td>NaN</td>\n",
              "      <td>304.0</td>\n",
              "      <td>NaN</td>\n",
              "    </tr>\n",
              "    <tr>\n",
              "      <th>1307</th>\n",
              "      <td>1308</td>\n",
              "      <td>3</td>\n",
              "      <td>Murio</td>\n",
              "      <td>Zakarian Mr. Ortin</td>\n",
              "      <td>Hombre</td>\n",
              "      <td>27.0</td>\n",
              "      <td>2670</td>\n",
              "      <td>7.2250</td>\n",
              "      <td>NaN</td>\n",
              "      <td>NaN</td>\n",
              "      <td>NaN</td>\n",
              "      <td>NaN</td>\n",
              "    </tr>\n",
              "    <tr>\n",
              "      <th>1308</th>\n",
              "      <td>1309</td>\n",
              "      <td>3</td>\n",
              "      <td>Murio</td>\n",
              "      <td>Zimmerman Mr. Leo</td>\n",
              "      <td>Hombre</td>\n",
              "      <td>29.0</td>\n",
              "      <td>315082</td>\n",
              "      <td>7.8750</td>\n",
              "      <td>NaN</td>\n",
              "      <td>NaN</td>\n",
              "      <td>NaN</td>\n",
              "      <td>NaN</td>\n",
              "    </tr>\n",
              "  </tbody>\n",
              "</table>\n",
              "</div>"
            ],
            "text/plain": [
              "       _id  Clase  Sobrevivio                                  Nombre    Sexo  \\\n",
              "1299  1300      3       Murio                      Yasbeck Mr. Antoni  Hombre   \n",
              "1300  1301      3  Sobrevivio  Yasbeck Mrs. Antoni (Selini Alexander)   Mujer   \n",
              "1301  1302      3       Murio                     Youseff Mr. Gerious  Hombre   \n",
              "1302  1303      3       Murio                        Yousif Mr. Wazli  Hombre   \n",
              "1303  1304      3       Murio                    Yousseff Mr. Gerious  Hombre   \n",
              "1304  1305      3       Murio                     Zabour Miss. Hileni   Mujer   \n",
              "1305  1306      3       Murio                    Zabour Miss. Thamine   Mujer   \n",
              "1306  1307      3       Murio                Zakarian Mr. Mapriededer  Hombre   \n",
              "1307  1308      3       Murio                      Zakarian Mr. Ortin  Hombre   \n",
              "1308  1309      3       Murio                       Zimmerman Mr. Leo  Hombre   \n",
              "\n",
              "      Edad  Ticket   Tarifa Cabina Bote de Rescate  Cuerpo Destino  \n",
              "1299  27.0    2659  14.4542    NaN               C     NaN     NaN  \n",
              "1300  15.0    2659  14.4542    NaN             NaN     NaN     NaN  \n",
              "1301  45.5    2628   7.2250    NaN             NaN   312.0     NaN  \n",
              "1302   NaN    2647   7.2250    NaN             NaN     NaN     NaN  \n",
              "1303   NaN    2627  14.4583    NaN             NaN     NaN     NaN  \n",
              "1304  14.5    2665  14.4542    NaN             NaN   328.0     NaN  \n",
              "1305   NaN    2665  14.4542    NaN             NaN     NaN     NaN  \n",
              "1306  26.5    2656   7.2250    NaN             NaN   304.0     NaN  \n",
              "1307  27.0    2670   7.2250    NaN             NaN     NaN     NaN  \n",
              "1308  29.0  315082   7.8750    NaN             NaN     NaN     NaN  "
            ]
          },
          "metadata": {},
          "execution_count": 531
        }
      ]
    },
    {
      "cell_type": "code",
      "metadata": {
        "colab": {
          "base_uri": "https://localhost:8080/",
          "height": 53
        },
        "id": "Iu_je-1_FM1o",
        "outputId": "5c220fc7-e418-4389-a9a6-9515b4cf8a11"
      },
      "source": [
        "varTicket = input(\"Ingrese el número de Ticket a consultar?:\")\n",
        "varCondicionQuery = 'Ticket == ' + '\"' + varTicket + '\"'\n",
        "varCondicionQuery"
      ],
      "execution_count": 532,
      "outputs": [
        {
          "name": "stdout",
          "output_type": "stream",
          "text": [
            "Ingrese el número de Ticket a consultar?:2659\n"
          ]
        },
        {
          "output_type": "execute_result",
          "data": {
            "application/vnd.google.colaboratory.intrinsic+json": {
              "type": "string"
            },
            "text/plain": [
              "'Ticket == \"2659\"'"
            ]
          },
          "metadata": {},
          "execution_count": 532
        }
      ]
    },
    {
      "cell_type": "code",
      "metadata": {
        "colab": {
          "base_uri": "https://localhost:8080/",
          "height": 112
        },
        "id": "Bvk1MMqJ9Qve",
        "outputId": "be2f342f-0974-4148-b212-68e95225827a"
      },
      "source": [
        "dfTitanic.query(varCondicionQuery) "
      ],
      "execution_count": 533,
      "outputs": [
        {
          "output_type": "execute_result",
          "data": {
            "text/html": [
              "<div>\n",
              "<style scoped>\n",
              "    .dataframe tbody tr th:only-of-type {\n",
              "        vertical-align: middle;\n",
              "    }\n",
              "\n",
              "    .dataframe tbody tr th {\n",
              "        vertical-align: top;\n",
              "    }\n",
              "\n",
              "    .dataframe thead th {\n",
              "        text-align: right;\n",
              "    }\n",
              "</style>\n",
              "<table border=\"1\" class=\"dataframe\">\n",
              "  <thead>\n",
              "    <tr style=\"text-align: right;\">\n",
              "      <th></th>\n",
              "      <th>_id</th>\n",
              "      <th>Clase</th>\n",
              "      <th>Sobrevivio</th>\n",
              "      <th>Nombre</th>\n",
              "      <th>Sexo</th>\n",
              "      <th>Edad</th>\n",
              "      <th>Ticket</th>\n",
              "      <th>Tarifa</th>\n",
              "      <th>Cabina</th>\n",
              "      <th>Bote de Rescate</th>\n",
              "      <th>Cuerpo</th>\n",
              "      <th>Destino</th>\n",
              "    </tr>\n",
              "  </thead>\n",
              "  <tbody>\n",
              "    <tr>\n",
              "      <th>1299</th>\n",
              "      <td>1300</td>\n",
              "      <td>3</td>\n",
              "      <td>Murio</td>\n",
              "      <td>Yasbeck Mr. Antoni</td>\n",
              "      <td>Hombre</td>\n",
              "      <td>27.0</td>\n",
              "      <td>2659</td>\n",
              "      <td>14.4542</td>\n",
              "      <td>NaN</td>\n",
              "      <td>C</td>\n",
              "      <td>NaN</td>\n",
              "      <td>NaN</td>\n",
              "    </tr>\n",
              "    <tr>\n",
              "      <th>1300</th>\n",
              "      <td>1301</td>\n",
              "      <td>3</td>\n",
              "      <td>Sobrevivio</td>\n",
              "      <td>Yasbeck Mrs. Antoni (Selini Alexander)</td>\n",
              "      <td>Mujer</td>\n",
              "      <td>15.0</td>\n",
              "      <td>2659</td>\n",
              "      <td>14.4542</td>\n",
              "      <td>NaN</td>\n",
              "      <td>NaN</td>\n",
              "      <td>NaN</td>\n",
              "      <td>NaN</td>\n",
              "    </tr>\n",
              "  </tbody>\n",
              "</table>\n",
              "</div>"
            ],
            "text/plain": [
              "       _id  Clase  Sobrevivio                                  Nombre    Sexo  \\\n",
              "1299  1300      3       Murio                      Yasbeck Mr. Antoni  Hombre   \n",
              "1300  1301      3  Sobrevivio  Yasbeck Mrs. Antoni (Selini Alexander)   Mujer   \n",
              "\n",
              "      Edad Ticket   Tarifa Cabina Bote de Rescate  Cuerpo Destino  \n",
              "1299  27.0   2659  14.4542    NaN               C     NaN     NaN  \n",
              "1300  15.0   2659  14.4542    NaN             NaN     NaN     NaN  "
            ]
          },
          "metadata": {},
          "execution_count": 533
        }
      ]
    },
    {
      "cell_type": "code",
      "metadata": {
        "id": "EE1v_4zW-ywc"
      },
      "source": [
        "#pd.set_option('display.max_rows', None)\n",
        "pd.set_option('display.max_columns', 12)\n",
        "#pd.set_option('display.width', None)\n",
        "#pd.set_option('display.max_colwidth', -1)"
      ],
      "execution_count": 534,
      "outputs": []
    },
    {
      "cell_type": "code",
      "metadata": {
        "colab": {
          "base_uri": "https://localhost:8080/"
        },
        "id": "0LbUslgJ7gcO",
        "outputId": "fc4a286c-959c-4604-91d0-d34af7f825ba"
      },
      "source": [
        "dfQueryResult = dfTitanic.query(varCondicionQuery) \n",
        "if dfQueryResult.empty:\n",
        "    print(\"No existe Ticket\")\n",
        "else:\n",
        "   print(dfQueryResult)    "
      ],
      "execution_count": 535,
      "outputs": [
        {
          "output_type": "stream",
          "name": "stdout",
          "text": [
            "       _id  Clase  Sobrevivio                                  Nombre    Sexo  \\\n",
            "1299  1300      3       Murio                      Yasbeck Mr. Antoni  Hombre   \n",
            "1300  1301      3  Sobrevivio  Yasbeck Mrs. Antoni (Selini Alexander)   Mujer   \n",
            "\n",
            "      Edad Ticket   Tarifa Cabina Bote de Rescate  Cuerpo Destino  \n",
            "1299  27.0   2659  14.4542    NaN               C     NaN     NaN  \n",
            "1300  15.0   2659  14.4542    NaN             NaN     NaN     NaN  \n"
          ]
        }
      ]
    },
    {
      "cell_type": "code",
      "metadata": {
        "colab": {
          "base_uri": "https://localhost:8080/"
        },
        "id": "MmhXi7DVqg5h",
        "outputId": "7177003d-bcb4-4ee9-aea0-f214b423c1e7"
      },
      "source": [
        "dfQueryResult.shape[0]"
      ],
      "execution_count": 536,
      "outputs": [
        {
          "output_type": "execute_result",
          "data": {
            "text/plain": [
              "2"
            ]
          },
          "metadata": {},
          "execution_count": 536
        }
      ]
    },
    {
      "cell_type": "code",
      "metadata": {
        "id": "M1lRLhb_zjzv"
      },
      "source": [
        "from tabulate import tabulate\n",
        "def pprint_df(dframe):\n",
        "    print (tabulate(dframe, headers='keys', tablefmt='psql', showindex=False))"
      ],
      "execution_count": 537,
      "outputs": []
    },
    {
      "cell_type": "code",
      "metadata": {
        "colab": {
          "base_uri": "https://localhost:8080/"
        },
        "id": "NKXlTF_cn4Fm",
        "outputId": "ef480e70-faed-4164-a7cd-81c3f1413988"
      },
      "source": [
        "\n",
        "\n",
        "print(\"=====================================================================================================================\")\n",
        "print(\"Ticket:--->\", varTicket, \"Con tarifa de\", dfQueryResult.iloc[0]['Tarifa'], \", Viajo en clase:\", dfQueryResult.iloc[0]['Clase'], \"Con destino a\", dfQueryResult.iloc[0]['Destino'] )\n",
        "print()\n",
        "print(\"Pasajero(\", dfQueryResult.shape[0],  \"):\")\n",
        "\n",
        "pprint_df(dfQueryResult[['Nombre','Sexo','Edad', 'Sobrevivio', 'Cabina', 'Cuerpo','Bote de Rescate']])\n",
        "\n"
      ],
      "execution_count": 538,
      "outputs": [
        {
          "output_type": "stream",
          "name": "stdout",
          "text": [
            "=====================================================================================================================\n",
            "Ticket:---> 2659 Con tarifa de 14.4542 , Viajo en clase: 3 Con destino a nan\n",
            "\n",
            "Pasajero( 2 ):\n",
            "+----------------------------------------+--------+--------+--------------+----------+----------+-------------------+\n",
            "| Nombre                                 | Sexo   |   Edad | Sobrevivio   |   Cabina |   Cuerpo | Bote de Rescate   |\n",
            "|----------------------------------------+--------+--------+--------------+----------+----------+-------------------|\n",
            "| Yasbeck Mr. Antoni                     | Hombre |     27 | Murio        |      nan |      nan | C                 |\n",
            "| Yasbeck Mrs. Antoni (Selini Alexander) | Mujer  |     15 | Sobrevivio   |      nan |      nan | nan               |\n",
            "+----------------------------------------+--------+--------+--------------+----------+----------+-------------------+\n"
          ]
        }
      ]
    },
    {
      "cell_type": "markdown",
      "metadata": {
        "id": "RTg8XCnP8k84"
      },
      "source": [
        "### Una gráfica de cuantas personas murieron y cuantas sobrevivieron (en pastel)"
      ]
    },
    {
      "cell_type": "code",
      "metadata": {
        "id": "0dLOW6N5IJg0"
      },
      "source": [
        "import matplotlib.pyplot as plt"
      ],
      "execution_count": 539,
      "outputs": []
    },
    {
      "cell_type": "code",
      "metadata": {
        "id": "1evQGdtV68KQ"
      },
      "source": [
        "dfTitanicSobrevivio = dfTitanic[['Sobrevivio']]\n"
      ],
      "execution_count": 540,
      "outputs": []
    },
    {
      "cell_type": "code",
      "metadata": {
        "id": "ZPXd4ZrVNbuS"
      },
      "source": [
        "grpSobrevivencia = pd.DataFrame({'count' : dfTitanicSobrevivio.groupby( [\"Sobrevivio\"] ).size()}).reset_index()\n"
      ],
      "execution_count": 541,
      "outputs": []
    },
    {
      "cell_type": "code",
      "metadata": {
        "id": "iawpF2MDfZ-h"
      },
      "source": [
        "\n"
      ],
      "execution_count": 541,
      "outputs": []
    },
    {
      "cell_type": "code",
      "metadata": {
        "id": "LEeQPvQ6l2Ct"
      },
      "source": [
        "grpTitanicSobrevivio = dfTitanicSobrevivio.groupby( [ 'Sobrevivio'] )[\"Sobrevivio\"].count()"
      ],
      "execution_count": 542,
      "outputs": []
    },
    {
      "cell_type": "code",
      "metadata": {
        "colab": {
          "base_uri": "https://localhost:8080/",
          "height": 499
        },
        "id": "yg1X65ldcQKo",
        "outputId": "e838ef07-c055-41b7-b856-364c8dfbac75"
      },
      "source": [
        "\n",
        "#pltSobrevivencia =   grpTitanicSobrevivio.loc[[\"Sobrevivio\",\"No Sobrevivio\"]].plot(\n",
        "#kind = \"pie\",  grid = True,  autopct='%1.1f%%', title = \"Sobrevivientes y Muertos\", colors = [\"green\", \"red\"], shadow = True, startangle=15)\n",
        "varTitulo = 'Sobreviencia-->  ' + 'Sobrevivieron: ' + str( grpTitanicSobrevivio[1]) + ',  Murieron: ' + str(grpTitanicSobrevivio[0])\n",
        "varlabels = \"Murio\", \"Sobrevivio\",\n",
        "varcolors = ['red', 'lightgreen']\n",
        "varexplode = (0.2, 0)\n",
        "fig, ax =  plt.subplots(facecolor = 'lightblue', figsize = [10, 8], edgecolor = \"black\")  # Create a figure containing a single axes.\n",
        "ax.pie(grpTitanicSobrevivio, labels=varlabels, autopct='%1.1f%%', startangle=90, shadow = True, colors=varcolors, explode=varexplode, radius = 5)\n",
        "plt.title(varTitulo)\n",
        "plt.axis('equal')\n",
        "plt.legend(varlabels)\n",
        "ax.plot"
      ],
      "execution_count": 543,
      "outputs": [
        {
          "output_type": "execute_result",
          "data": {
            "text/plain": [
              "<bound method Axes.plot of <matplotlib.axes._subplots.AxesSubplot object at 0x7f96a89a8250>>"
            ]
          },
          "metadata": {},
          "execution_count": 543
        },
        {
          "output_type": "display_data",
          "data": {
            "image/png": "[encoded data removed]",
            "text/plain": [
              "<Figure size 720x576 with 1 Axes>"
            ]
          },
          "metadata": {}
        }
      ]
    },
    {
      "cell_type": "code",
      "metadata": {
        "id": "U4hkPnLmtx_c"
      },
      "source": [
        ""
      ],
      "execution_count": 543,
      "outputs": []
    },
    {
      "cell_type": "code",
      "metadata": {
        "colab": {
          "base_uri": "https://localhost:8080/",
          "height": 482
        },
        "id": "0jVazv8btyqf",
        "outputId": "8c226172-b127-4230-9f43-e4df079d7004"
      },
      "source": [
        "varTitulo = 'Sobreviencia-->  ' + 'Sobrevivieron: ' + str( grpTitanicSobrevivio[1]) + ',  Murieron: ' + str(grpTitanicSobrevivio[0])\n",
        "varlabels = \"Murio\", \"Sobrevivio\",\n",
        "varcolors = ['lightgreen','red']\n",
        "varexplode = (0.2, 0)\n",
        "fig, ax =  plt.subplots(facecolor = 'lightblue', figsize = [10, 8], edgecolor = \"black\") \n",
        "pltSobrevivencia =   grpTitanicSobrevivio.loc[[\"Sobrevivio\",\"Murio\"]].plot(\n",
        "kind = \"pie\",  grid = True,  autopct='%1.1f%%',  colors = varcolors, shadow = True, startangle=1, explode=varexplode, radius = 5)\n",
        "plt.title(varTitulo)\n",
        "pltSobrevivencia.set_ylabel(\"\")\n",
        "plt.axis('equal')\n",
        "plt.show()"
      ],
      "execution_count": 544,
      "outputs": [
        {
          "output_type": "display_data",
          "data": {
            "image/png": "[encoded data removed]",
            "text/plain": [
              "<Figure size 720x576 with 1 Axes>"
            ]
          },
          "metadata": {}
        }
      ]
    },
    {
      "cell_type": "markdown",
      "metadata": {
        "id": "b3DTotc78ptl"
      },
      "source": [
        "### Gráfica para la cantidad de sobrevivientes por clase (de barra)"
      ]
    },
    {
      "cell_type": "code",
      "metadata": {
        "id": "YKetZGiA8ynR"
      },
      "source": [
        "\n",
        "dfTitanicSobrevivio = dfTitanic[dfTitanic[\"Sobrevivio\"] == 'Sobrevivio']\n",
        "dfTitanicSobrevivioPorClase =  dfTitanicSobrevivioPorClase.astype(str)\n",
        "dfTitanicSobrevivioPorClase['Clase'].replace(\n",
        "    to_replace=['1'],\n",
        "    value='1ra Clase',\n",
        "    inplace=True\n",
        ")\n",
        "dfTitanicSobrevivioPorClase['Clase'].replace(\n",
        "    to_replace=['2'],\n",
        "    value='2da Clase',\n",
        "    inplace=True\n",
        ")\n",
        "dfTitanicSobrevivioPorClase['Clase'].replace(\n",
        "    to_replace=['3'],\n",
        "    value='3ra Clase',\n",
        "    inplace=True\n",
        ")\n"
      ],
      "execution_count": 545,
      "outputs": []
    },
    {
      "cell_type": "code",
      "metadata": {
        "id": "8pvnx3taV9HP"
      },
      "source": [
        "grpTitanicSobrevivioPorClase = dfTitanicSobrevivioPorClase.groupby(by = \"Clase\")[\"Clase\"].count()"
      ],
      "execution_count": 546,
      "outputs": []
    },
    {
      "cell_type": "markdown",
      "metadata": {
        "id": "eLoZYTWu8bVL"
      },
      "source": [
        "# Convertir Groupby en Dataframe"
      ]
    },
    {
      "cell_type": "code",
      "metadata": {
        "id": "Bz6n7twKwqex"
      },
      "source": [
        "df1 = dfTitanicSobrevivioPorClase\n",
        "g1 = df1.groupby( [\"Clase\",\"Sobrevivio\"] )[\"Sobrevivio\"].count()"
      ],
      "execution_count": 547,
      "outputs": []
    },
    {
      "cell_type": "code",
      "metadata": {
        "id": "C4NVy-Bn9sKs"
      },
      "source": [
        "df2 = pd.DataFrame({'count' : df1.groupby( [\"Clase\"] ).size()}).reset_index()"
      ],
      "execution_count": 548,
      "outputs": []
    },
    {
      "cell_type": "markdown",
      "metadata": {
        "id": "Tq5ux1MY8hjM"
      },
      "source": [
        "## Graficar resultados"
      ]
    },
    {
      "cell_type": "code",
      "metadata": {
        "id": "sadfZHp6Y5aG",
        "colab": {
          "base_uri": "https://localhost:8080/",
          "height": 389
        },
        "outputId": "92f944bb-debe-4939-873d-c2dbc8f2cd1b"
      },
      "source": [
        "pltPorclase =   grpTitanicSobrevivioPorClase.loc[[\"1ra Clase\",\"2da Clase\", \"3ra Clase\"]].plot(\n",
        "kind = \"bar\", color = \"gray\", grid = True, figsize = (5, 5), title = \"Sobrevivientes Por Clase\")\n",
        "pltPorclase.set_xlabel(\"Clase\")\n",
        "pltPorclase.set_ylabel(\"Número de Sobrevivientes\")\n",
        "plt.show()"
      ],
      "execution_count": 549,
      "outputs": [
        {
          "output_type": "display_data",
          "data": {
            "image/png": "[encoded data removed]",
            "text/plain": [
              "<Figure size 360x360 with 1 Axes>"
            ]
          },
          "metadata": {
            "needs_background": "light"
          }
        }
      ]
    },
    {
      "cell_type": "markdown",
      "metadata": {
        "id": "3jPYrVhD86sC"
      },
      "source": [
        "### Saber los costos de los tickets (Mas caros y mas barato)"
      ]
    },
    {
      "cell_type": "code",
      "metadata": {
        "id": "0fZT4l3hRShR",
        "colab": {
          "base_uri": "https://localhost:8080/"
        },
        "outputId": "80343ca1-71ab-478e-d9a8-19dff30fe6c3"
      },
      "source": [
        "dfTitanicTarifa = dfTitanic[['Tarifa']]\n",
        "dfTitanicTarifa\n",
        "varTitanicTarifaMax = dfTitanicTarifa['Tarifa'].max()\n",
        "varTitanicTarifaMin = dfTitanicTarifa['Tarifa'].min()\n",
        "print (\"Tarifa minima: \", str(varTitanicTarifaMin), \" Tarifa Maxima: \", str(varTitanicTarifaMax))"
      ],
      "execution_count": 550,
      "outputs": [
        {
          "output_type": "stream",
          "name": "stdout",
          "text": [
            "Tarifa minima:  3.1708  Tarifa Maxima:  512.3292\n"
          ]
        }
      ]
    },
    {
      "cell_type": "code",
      "metadata": {
        "id": "gtV-O6jNg1Nb"
      },
      "source": [
        "dictTarifaMinMax = {\n",
        "    'TarifaMinima': [varTitanicTarifaMin],\n",
        "    'TarifaMaxima': [varTitanicTarifaMax]\n",
        "}"
      ],
      "execution_count": 551,
      "outputs": []
    },
    {
      "cell_type": "code",
      "metadata": {
        "colab": {
          "base_uri": "https://localhost:8080/",
          "height": 0
        },
        "id": "zrDb40Owhl5p",
        "outputId": "15c07217-8cb1-4690-e8a3-5cd725a918d8"
      },
      "source": [
        "dfTarifaMinMax = pd.DataFrame(dictTarifaMinMax)\n",
        "dfTarifaMinMax"
      ],
      "execution_count": 552,
      "outputs": [
        {
          "output_type": "execute_result",
          "data": {
            "text/html": [
              "<div>\n",
              "<style scoped>\n",
              "    .dataframe tbody tr th:only-of-type {\n",
              "        vertical-align: middle;\n",
              "    }\n",
              "\n",
              "    .dataframe tbody tr th {\n",
              "        vertical-align: top;\n",
              "    }\n",
              "\n",
              "    .dataframe thead th {\n",
              "        text-align: right;\n",
              "    }\n",
              "</style>\n",
              "<table border=\"1\" class=\"dataframe\">\n",
              "  <thead>\n",
              "    <tr style=\"text-align: right;\">\n",
              "      <th></th>\n",
              "      <th>TarifaMinima</th>\n",
              "      <th>TarifaMaxima</th>\n",
              "    </tr>\n",
              "  </thead>\n",
              "  <tbody>\n",
              "    <tr>\n",
              "      <th>0</th>\n",
              "      <td>3.1708</td>\n",
              "      <td>512.3292</td>\n",
              "    </tr>\n",
              "  </tbody>\n",
              "</table>\n",
              "</div>"
            ],
            "text/plain": [
              "   TarifaMinima  TarifaMaxima\n",
              "0        3.1708      512.3292"
            ]
          },
          "metadata": {},
          "execution_count": 552
        }
      ]
    },
    {
      "cell_type": "code",
      "metadata": {
        "id": "9GWGjFemoJGN"
      },
      "source": [
        "dir_pd = '/content/drive/My Drive/ColabNoteBook/data/{}'.format('TarifaMinMax.csv')\n",
        "dfTarifaMinMax.to_csv(dir_pd, index=False)"
      ],
      "execution_count": 553,
      "outputs": []
    },
    {
      "cell_type": "code",
      "metadata": {
        "id": "2ZvZ1hHHz9RW",
        "colab": {
          "base_uri": "https://localhost:8080/"
        },
        "outputId": "854a9f73-f099-412a-f7f6-04f741d45c52"
      },
      "source": [
        "grpdfTitanicTarifa = dfTitanicTarifa.groupby(by = \"Tarifa\")[\"Tarifa\"].count()\n",
        "grpdfTitanicTarifa\n"
      ],
      "execution_count": 554,
      "outputs": [
        {
          "output_type": "execute_result",
          "data": {
            "text/plain": [
              "Tarifa\n",
              "3.1708      1\n",
              "4.0125      1\n",
              "5.0000      1\n",
              "6.2375      1\n",
              "6.4375      3\n",
              "           ..\n",
              "227.5250    5\n",
              "247.5208    3\n",
              "262.3750    7\n",
              "263.0000    6\n",
              "512.3292    4\n",
              "Name: Tarifa, Length: 281, dtype: int64"
            ]
          },
          "metadata": {},
          "execution_count": 554
        }
      ]
    },
    {
      "cell_type": "code",
      "metadata": {
        "id": "SJ81mqGgzWtb",
        "colab": {
          "base_uri": "https://localhost:8080/"
        },
        "outputId": "8f0ffa34-26a2-4bd7-c62e-75f105a42e3e"
      },
      "source": [
        "grpdfTitanicTarifa.head(10)\n"
      ],
      "execution_count": 555,
      "outputs": [
        {
          "output_type": "execute_result",
          "data": {
            "text/plain": [
              "Tarifa\n",
              "3.1708    1\n",
              "4.0125    1\n",
              "5.0000    1\n",
              "6.2375    1\n",
              "6.4375    3\n",
              "6.4500    1\n",
              "6.4958    3\n",
              "6.7500    2\n",
              "6.8583    1\n",
              "6.9500    2\n",
              "Name: Tarifa, dtype: int64"
            ]
          },
          "metadata": {},
          "execution_count": 555
        }
      ]
    },
    {
      "cell_type": "code",
      "metadata": {
        "id": "LGIVeJio0cin",
        "colab": {
          "base_uri": "https://localhost:8080/"
        },
        "outputId": "cc548526-18a7-4409-d9f5-5d125b5c4454"
      },
      "source": [
        "grpdfTitanicTarifa.tail(10)"
      ],
      "execution_count": 556,
      "outputs": [
        {
          "output_type": "execute_result",
          "data": {
            "text/plain": [
              "Tarifa\n",
              "153.4625    3\n",
              "164.8667    4\n",
              "211.3375    4\n",
              "211.5000    5\n",
              "221.7792    4\n",
              "227.5250    5\n",
              "247.5208    3\n",
              "262.3750    7\n",
              "263.0000    6\n",
              "512.3292    4\n",
              "Name: Tarifa, dtype: int64"
            ]
          },
          "metadata": {},
          "execution_count": 556
        }
      ]
    },
    {
      "cell_type": "code",
      "metadata": {
        "id": "cOEEeFHYuc9V",
        "colab": {
          "base_uri": "https://localhost:8080/",
          "height": 0
        },
        "outputId": "7f9c5ba5-38ca-48f1-c6b7-9434dc147e98"
      },
      "source": [
        "arrEtiquetas = np.array([\"Mínimo\", \"Máximo\"])\n",
        "arrCostos    =   np.array([varTitanicTarifaMin, varTitanicTarifaMax])\n",
        "varTitulo = 'Costos de Ticket-->  ' + 'Minimo: ' + str( arrCostos[0]) + ',  Máximo: ' + str(arrCostos[1])\n",
        "plt.bar(arrEtiquetas,arrCostos)\n",
        "plt.title(varTitulo)\n",
        "plt.grid()\n",
        "plt.show()\n"
      ],
      "execution_count": 557,
      "outputs": [
        {
          "output_type": "display_data",
          "data": {
            "image/png": "[encoded data removed]",
            "text/plain": [
              "<Figure size 432x288 with 1 Axes>"
            ]
          },
          "metadata": {
            "needs_background": "light"
          }
        }
      ]
    },
    {
      "cell_type": "code",
      "metadata": {
        "colab": {
          "base_uri": "https://localhost:8080/",
          "height": 0
        },
        "id": "EDFT8xiIZgYt",
        "outputId": "0840c16c-4660-49cc-9238-ae28459f55d7"
      },
      "source": [
        "dfTitanic[['Tarifa']].plot()"
      ],
      "execution_count": 558,
      "outputs": [
        {
          "output_type": "execute_result",
          "data": {
            "text/plain": [
              "<matplotlib.axes._subplots.AxesSubplot at 0x7f96a894e9d0>"
            ]
          },
          "metadata": {},
          "execution_count": 558
        },
        {
          "output_type": "display_data",
          "data": {
            "image/png": "[encoded data removed]",
            "text/plain": [
              "<Figure size 432x288 with 1 Axes>"
            ]
          },
          "metadata": {
            "needs_background": "light"
          }
        }
      ]
    },
    {
      "cell_type": "code",
      "metadata": {
        "colab": {
          "base_uri": "https://localhost:8080/",
          "height": 0
        },
        "id": "92PiHhs5Zl7S",
        "outputId": "b06a4a71-af9a-4ba8-e4d4-b57f28a784aa"
      },
      "source": [
        "plt.scatter(dfTitanic['Tarifa'],dfTitanic['Sobrevivio'])"
      ],
      "execution_count": 559,
      "outputs": [
        {
          "output_type": "execute_result",
          "data": {
            "text/plain": [
              "<matplotlib.collections.PathCollection at 0x7f96a91d2310>"
            ]
          },
          "metadata": {},
          "execution_count": 559
        },
        {
          "output_type": "display_data",
          "data": {
            "image/png": "[encoded data removed]",
            "text/plain": [
              "<Figure size 432x288 with 1 Axes>"
            ]
          },
          "metadata": {
            "needs_background": "light"
          }
        }
      ]
    },
    {
      "cell_type": "markdown",
      "metadata": {
        "id": "BYx0sA4rHJ-9"
      },
      "source": [
        "# DashBoard"
      ]
    },
    {
      "cell_type": "code",
      "metadata": {
        "colab": {
          "base_uri": "https://localhost:8080/",
          "height": 369
        },
        "id": "QRDZceShdo4j",
        "outputId": "3e64e376-2bc1-4d06-9dd1-46a9edb4f400"
      },
      "source": [
        "\n",
        "\n",
        "\n",
        "fig, ax =  plt.subplots(facecolor = 'lavender') \n",
        "fig.set_size_inches(16,5)\n",
        "#--------Grafica de Pastel Solicitada ------------\n",
        "varTitulo = 'Sobreviencia'\n",
        "lstColors = ['palegreen','red']\n",
        "ax= plt.subplot(1, 3, 1)                   #Axis\n",
        "pltSobrevivencia =   grpTitanicSobrevivio.loc[[\"Sobrevivio\",\"Murio\"]].plot(\n",
        "kind = \"pie\",  grid = True,  autopct='%1.1f%%', colors = lstColors, shadow = True, startangle=1, explode=(0.2, 0), radius = 5)\n",
        "plt.title(varTitulo)\n",
        "pltSobrevivencia.set_ylabel(\"\")\n",
        "plt.axis('equal')\n",
        "\n",
        "#---------- Sobrevivientes por clase ----------------\n",
        "\n",
        "ax= plt.subplot(1, 3, 2)                   #Axis\n",
        "pltPorclase =   grpTitanicSobrevivioPorClase.loc[[\"1ra Clase\",\"2da Clase\", \"3ra Clase\"]].plot(\n",
        "kind = \"bar\", color = \"palegreen\", grid = True, title = \"Sobrevivientes Por Clase\")\n",
        "pltPorclase.set_xlabel(\"\")\n",
        "pltPorclase.set_ylabel(\"Número de Sobrevivientes\")\n",
        "plt.tight_layout()\n",
        "\n",
        "#---------- Costo Minimo y Maximo ----------------\n",
        "ax= plt.subplot(1, 3, 3)                   #Axis\n",
        "arrEtiquetas = np.array([\"Mínimo\", \"Máximo\"])\n",
        "arrCostos    =   np.array([varTitanicTarifaMin, varTitanicTarifaMax])\n",
        "varTitulo = 'Costos de Ticket-->  ' + 'Minimo: ' + str( arrCostos[0]) + ',  Máximo: ' + str(arrCostos[1])\n",
        "plt.bar(arrEtiquetas,arrCostos)\n",
        "plt.title(varTitulo)\n",
        "plt.grid()\n",
        "\n",
        "#--------------Mostrar Dashboard\n",
        "\n",
        "plt.show()\n",
        "plt.close('all')"
      ],
      "execution_count": 560,
      "outputs": [
        {
          "output_type": "display_data",
          "data": {
            "image/png": "[encoded data removed]",
            "text/plain": [
              "<Figure size 1152x360 with 3 Axes>"
            ]
          },
          "metadata": {}
        }
      ]
    },
    {
      "cell_type": "code",
      "metadata": {
        "id": "WinM-2-4StCo"
      },
      "source": [
        ""
      ],
      "execution_count": 560,
      "outputs": []
    }
  ]
}